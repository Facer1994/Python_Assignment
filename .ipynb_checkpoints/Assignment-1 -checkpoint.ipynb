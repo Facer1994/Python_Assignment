{
 "cells": [
  {
   "cell_type": "code",
   "execution_count": 2,
   "id": "ef599453-6ff1-49c0-b823-ef37acc747ea",
   "metadata": {},
   "outputs": [
    {
     "name": "stdout",
     "output_type": "stream",
     "text": [
      "Welcome to Assignment-1\n"
     ]
    }
   ],
   "source": [
    "string =\"Welcome to Assignment-1\"\n",
    "\n",
    "print(string)"
   ]
  },
  {
   "cell_type": "code",
   "execution_count": 6,
   "id": "d1acc500-aeb1-415a-bc3b-d8193e610c74",
   "metadata": {},
   "outputs": [
    {
     "name": "stdout",
     "output_type": "stream",
     "text": [
      "Num1= 10\n",
      "Num2= 30\n",
      "Add= 40\n"
     ]
    }
   ],
   "source": [
    "num1=10\n",
    "num2=30\n",
    "print(\"Num1=\",num1)\n",
    "print(\"Num2=\",num2)\n",
    "addition=num1+num2\n",
    "print(\"Add=\",addition)"
   ]
  },
  {
   "cell_type": "code",
   "execution_count": 13,
   "id": "250c9305-0c75-4cfb-8e5a-4b91218d05a8",
   "metadata": {},
   "outputs": [
    {
     "name": "stdin",
     "output_type": "stream",
     "text": [
      "Enter the BMI Index:  34\n"
     ]
    },
    {
     "name": "stdout",
     "output_type": "stream",
     "text": [
      "Very Overweight\n"
     ]
    }
   ],
   "source": [
    "bodymass_val= float(input(\"Enter the BMI Index: \"))\n",
    "if(bodymass_val<=18.5):\n",
    "    print(\"underweight\")\n",
    "elif(bodymass_val>18.5 and bodymass_val<=24.9):\n",
    "    print(\"Normal Weight\")\n",
    "elif(bodymass_val>=25.0 and bodymass_val<=29.9):\n",
    "    print(\"Overweight\")\n",
    "else:\n",
    "    print(\"Very Overweight\")"
   ]
  },
  {
   "cell_type": "code",
   "execution_count": null,
   "id": "53023347-0fa4-47d0-a92b-8dd5fcaaa121",
   "metadata": {},
   "outputs": [],
   "source": []
  }
 ],
 "metadata": {
  "kernelspec": {
   "display_name": "Python 3 (ipykernel)",
   "language": "python",
   "name": "python3"
  },
  "language_info": {
   "codemirror_mode": {
    "name": "ipython",
    "version": 3
   },
   "file_extension": ".py",
   "mimetype": "text/x-python",
   "name": "python",
   "nbconvert_exporter": "python",
   "pygments_lexer": "ipython3",
   "version": "3.12.5"
  }
 },
 "nbformat": 4,
 "nbformat_minor": 5
}
