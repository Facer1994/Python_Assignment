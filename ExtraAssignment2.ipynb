{
 "cells": [
  {
   "cell_type": "code",
   "execution_count": 1,
   "id": "83c195e9-0d31-4a1d-8b60-7c94bd98d6aa",
   "metadata": {},
   "outputs": [
    {
     "name": "stdout",
     "output_type": "stream",
     "text": [
      "0\n",
      "1\n",
      "2\n",
      "3\n",
      "4\n",
      "5\n",
      "6\n",
      "7\n",
      "8\n",
      "9\n",
      "10\n",
      "11\n",
      "12\n",
      "13\n",
      "14\n",
      "15\n",
      "16\n",
      "17\n",
      "18\n",
      "19\n"
     ]
    }
   ],
   "source": [
    "val=range(20)\n",
    "for x in val:\n",
    "    print(x)"
   ]
  },
  {
   "cell_type": "code",
   "execution_count": 6,
   "id": "a4773ba3-39db-4bf6-8088-d63c95f7bf88",
   "metadata": {},
   "outputs": [
    {
     "name": "stdout",
     "output_type": "stream",
     "text": [
      "10 11 12 13 14 15 16 17 18 19\n"
     ]
    }
   ],
   "source": [
    "print(*range(10,20))"
   ]
  },
  {
   "cell_type": "code",
   "execution_count": 8,
   "id": "161ba10e-d2ec-4ca4-8381-758e15ace2c0",
   "metadata": {},
   "outputs": [
    {
     "name": "stdout",
     "output_type": "stream",
     "text": [
      "[10, 20, 14, 55, 43, 87, 76]\n",
      "Number of item in the List2:\n",
      "7\n"
     ]
    }
   ],
   "source": [
    "list2=[10,20,14,55,43,87,76]\n",
    "print(list2)\n",
    "print(\"Number of item in the List2:\")\n",
    "print(len(list2))"
   ]
  },
  {
   "cell_type": "code",
   "execution_count": 10,
   "id": "d1b400a7-b49b-4a64-82f2-a6d2ac3dd00b",
   "metadata": {},
   "outputs": [
    {
     "name": "stdout",
     "output_type": "stream",
     "text": [
      "Artificial Intelligence\n",
      "A\n",
      "r\n",
      "t\n",
      "i\n",
      "f\n",
      "i\n",
      "c\n",
      "i\n",
      "a\n",
      "l\n",
      " \n",
      "I\n",
      "n\n",
      "t\n",
      "e\n",
      "l\n",
      "l\n",
      "i\n",
      "g\n",
      "e\n",
      "n\n",
      "c\n",
      "e\n"
     ]
    }
   ],
   "source": [
    "val=\"Artificial Intelligence\"\n",
    "print(val)\n",
    "for x in val:\n",
    "    print(x)"
   ]
  },
  {
   "cell_type": "code",
   "execution_count": 11,
   "id": "263ac56b-284a-430e-9c62-18e2b4315a3a",
   "metadata": {},
   "outputs": [
    {
     "name": "stdout",
     "output_type": "stream",
     "text": [
      "-Your Name-\n",
      "-Your Age-\n",
      "-Your Profession-\n"
     ]
    }
   ],
   "source": [
    "print(\"-Your Name-\")\n",
    "print(\"-Your Age-\")\n",
    "print(\"-Your Profession-\")"
   ]
  },
  {
   "cell_type": "code",
   "execution_count": 12,
   "id": "b11999a0-46d2-4be4-8287-624ad1e3db38",
   "metadata": {},
   "outputs": [
    {
     "name": "stdout",
     "output_type": "stream",
     "text": [
      "(1, 'Welcome', 2, 'Hope')\n"
     ]
    }
   ],
   "source": [
    "tuple1=(1,'Welcome',2,'Hope')\n",
    "print(tuple1)"
   ]
  },
  {
   "cell_type": "code",
   "execution_count": 13,
   "id": "e42eb8f3-1b68-49b3-9a98-efdf77fed752",
   "metadata": {},
   "outputs": [
    {
     "name": "stdout",
     "output_type": "stream",
     "text": [
      "((0, 1, 2, 3), ('python', 'HOPE'))\n"
     ]
    }
   ],
   "source": [
    "tuple2=((0,1,2,3),('python','HOPE'))\n",
    "print(tuple2)"
   ]
  },
  {
   "cell_type": "code",
   "execution_count": 18,
   "id": "2ba0e982-7b3f-4b76-9ae0-538dca0f8fd5",
   "metadata": {},
   "outputs": [
    {
     "name": "stdout",
     "output_type": "stream",
     "text": [
      "(20, 10, 16, 19, 25, 1, 276, 188)\n",
      "19 is odd\n",
      "25 is odd\n",
      "1 is odd\n"
     ]
    }
   ],
   "source": [
    "numberslist=(20,10,16,19,25,1,276,188)\n",
    "print(numberslist)\n",
    "for x in numberslist:\n",
    "    if(x%2!=0):\n",
    "        print(x ,\"is odd\")"
   ]
  },
  {
   "cell_type": "code",
   "execution_count": 20,
   "id": "af1e7f80-458f-4f6d-adf2-1b3619395ccd",
   "metadata": {},
   "outputs": [
    {
     "name": "stdout",
     "output_type": "stream",
     "text": [
      "(20, 10, 16, 19, 25, 1, 276, 188)\n",
      "20 is even\n",
      "10 is even\n",
      "16 is even\n",
      "276 is even\n",
      "188 is even\n"
     ]
    }
   ],
   "source": [
    "numberslist=(20,10,16,19,25,1,276,188)\n",
    "print(numberslist)\n",
    "for x in numberslist:\n",
    "    if(x%2==0):\n",
    "        print(x ,\"is even\")"
   ]
  },
  {
   "cell_type": "code",
   "execution_count": null,
   "id": "abd9557a-59ac-44ac-a5bc-a7df27d52b54",
   "metadata": {},
   "outputs": [],
   "source": []
  }
 ],
 "metadata": {
  "kernelspec": {
   "display_name": "Python 3 (ipykernel)",
   "language": "python",
   "name": "python3"
  },
  "language_info": {
   "codemirror_mode": {
    "name": "ipython",
    "version": 3
   },
   "file_extension": ".py",
   "mimetype": "text/x-python",
   "name": "python",
   "nbconvert_exporter": "python",
   "pygments_lexer": "ipython3",
   "version": "3.12.5"
  }
 },
 "nbformat": 4,
 "nbformat_minor": 5
}
